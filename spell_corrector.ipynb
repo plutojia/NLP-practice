{
 "cells": [
  {
   "cell_type": "code",
   "execution_count": 1,
   "metadata": {},
   "outputs": [],
   "source": [
    "import nltk\n",
    "import collections\n",
    "import re\n",
    "from nltk.corpus import brown"
   ]
  },
  {
   "cell_type": "code",
   "execution_count": 2,
   "metadata": {},
   "outputs": [
    {
     "name": "stdout",
     "output_type": "stream",
     "text": [
      "['The', 'Fulton', 'County', 'Grand', 'Jury', 'said', ...]\n",
      "1161192\n"
     ]
    }
   ],
   "source": [
    "text=brown.words()\n",
    "print(text)\n",
    "print(len(text))"
   ]
  },
  {
   "cell_type": "code",
   "execution_count": 3,
   "metadata": {},
   "outputs": [],
   "source": [
    "#先验，统计每个词出现的概率\n",
    "def prior(cwords):\n",
    "    model = collections.defaultdict(lambda:1)\n",
    "    for f in cwords:\n",
    "        model[f]+=1\n",
    "    return model\n",
    "\n",
    "cwords=text\n",
    "nwords = prior(cwords)"
   ]
  },
  {
   "cell_type": "code",
   "execution_count": 4,
   "metadata": {},
   "outputs": [],
   "source": [
    "#类条件概率\n",
    "alpha = 'abcdefghijklmnopqrstuvwxyz'\n",
    "#一步调整\n",
    "def version1(word):\n",
    "    n = len(word)\n",
    "    add_a_char = [word[0:i] + c + word[i:] for i in range(n+1) for c in alpha]\n",
    "    delete_a_char = [word[0:i] + word[i+1:] for i in range(n)]\n",
    "    revise_a_char = [word[0:i] + c + word[i+1:] for i in range(n) for c in alpha]\n",
    "    swap_adjacent_two_chars = [word[0:i] + word[i+1]+ word[i]+ word[i+2:] for i in range(n-1)] \n",
    "    return set( add_a_char + delete_a_char +\n",
    "               revise_a_char +  swap_adjacent_two_chars)"
   ]
  },
  {
   "cell_type": "code",
   "execution_count": 5,
   "metadata": {},
   "outputs": [],
   "source": [
    "#两步调整           \n",
    "def version2(word):\n",
    "    return set(e2 for e1 in version1(word) for e2 in version1(e1))\n",
    "\n",
    "\n",
    "#朴素贝叶斯分类器\n",
    "\n",
    "def identify(words):\n",
    "    return set(w for w in words if w in nwords)\n",
    "\n",
    "def getMax(wanteds):\n",
    "    threewanteds=[]\n",
    "    maxword = max(wanteds,key=lambda w : nwords[w])\n",
    "    threewanteds.append(maxword)\n",
    "    wanteds.remove(maxword)\n",
    "    if len(wanteds)>0:\n",
    "        maxword = max(wanteds,key=lambda w : nwords[w])\n",
    "        threewanteds.append(maxword)\n",
    "        wanteds.remove(maxword)\n",
    "        if len(wanteds)>0:\n",
    "            maxword = max(wanteds,key=lambda w : nwords[w])\n",
    "            threewanteds.append(maxword)   \n",
    "    return threewanteds"
   ]
  },
  {
   "cell_type": "code",
   "execution_count": 6,
   "metadata": {},
   "outputs": [],
   "source": [
    "def bayesClassifier(word):\n",
    "    #如果字典中有输入的单词，直接返回\n",
    "    if identify([word]):\n",
    "        return 'found: '+ word\n",
    "    #一步调整\n",
    "    wanteds = identify(version1(word)) \n",
    "    if len(wanteds)>0:\n",
    "        return getMax(wanteds)\n",
    "    #两步调整\n",
    "    wanteds = identify(version2(word))\n",
    "    if len(wanteds)>0:\n",
    "        return getMax(wanteds)\n",
    "    #不再修正，直接提示这个单词不在当前的词典中\n",
    "    else:    \n",
    "        return [word + ' not found in dictionary!' ]"
   ]
  },
  {
   "cell_type": "code",
   "execution_count": 7,
   "metadata": {},
   "outputs": [
    {
     "name": "stdout",
     "output_type": "stream",
     "text": [
      "['same', 'came', 'name']\n"
     ]
    }
   ],
   "source": [
    "print(bayesClassifier('kami'))"
   ]
  },
  {
   "cell_type": "code",
   "execution_count": 8,
   "metadata": {},
   "outputs": [
    {
     "name": "stdout",
     "output_type": "stream",
     "text": [
      "['via', 'jig']\n"
     ]
    }
   ],
   "source": [
    "print(bayesClassifier('jia'))"
   ]
  },
  {
   "cell_type": "code",
   "execution_count": null,
   "metadata": {},
   "outputs": [],
   "source": []
  }
 ],
 "metadata": {
  "kernelspec": {
   "display_name": "Python 3",
   "language": "python",
   "name": "python3"
  },
  "language_info": {
   "codemirror_mode": {
    "name": "ipython",
    "version": 3
   },
   "file_extension": ".py",
   "mimetype": "text/x-python",
   "name": "python",
   "nbconvert_exporter": "python",
   "pygments_lexer": "ipython3",
   "version": "3.6.8"
  }
 },
 "nbformat": 4,
 "nbformat_minor": 2
}
